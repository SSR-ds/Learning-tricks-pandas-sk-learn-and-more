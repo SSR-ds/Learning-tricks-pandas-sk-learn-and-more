{
 "cells": [
  {
   "cell_type": "code",
   "execution_count": 1,
   "metadata": {},
   "outputs": [],
   "source": [
    "import pandas as pd\n",
    "import numpy as np\n",
    "import matplotlib.pyplot as plt\n",
    "%matplotlib inline"
   ]
  },
  {
   "cell_type": "code",
   "execution_count": 2,
   "metadata": {},
   "outputs": [],
   "source": [
    "data1 = pd.read_csv(\"Kaggle Airline Survey.csv\")\n",
    "data2 = pd.read_csv('CA - Housing Price Prediction.csv')"
   ]
  },
  {
   "cell_type": "code",
   "execution_count": 3,
   "metadata": {},
   "outputs": [
    {
     "data": {
      "text/plain": [
       "Index(['id', 'satisfaction_v2', 'Gender', 'Customer Type', 'Age',\n",
       "       'Type of Travel', 'Class', 'Flight Distance', 'Seat comfort',\n",
       "       'Departure/Arrival time convenient', 'Food and drink', 'Gate location',\n",
       "       'Inflight wifi service', 'Inflight entertainment', 'Online support',\n",
       "       'Ease of Online booking', 'On-board service', 'Leg room service',\n",
       "       'Baggage handling', 'Checkin service', 'Cleanliness', 'Online boarding',\n",
       "       'Departure Delay in Minutes', 'Arrival Delay in Minutes'],\n",
       "      dtype='object')"
      ]
     },
     "execution_count": 3,
     "metadata": {},
     "output_type": "execute_result"
    }
   ],
   "source": [
    "data1.columns"
   ]
  },
  {
   "cell_type": "code",
   "execution_count": 4,
   "metadata": {},
   "outputs": [
    {
     "data": {
      "text/plain": [
       "(4099, 24)"
      ]
     },
     "execution_count": 4,
     "metadata": {},
     "output_type": "execute_result"
    }
   ],
   "source": [
    "data1.shape"
   ]
  },
  {
   "cell_type": "code",
   "execution_count": 5,
   "metadata": {},
   "outputs": [
    {
     "data": {
      "text/plain": [
       "Index(['Id', 'GrLivArea', 'Street', 'OverallQual', 'GarageCars', 'GarageArea',\n",
       "       'LandSlope', 'TotRmsAbvGrd', 'Utilities', 'FullBath', 'X1stFlrSF',\n",
       "       'TotalBsmtSF', 'age', 'YearBuilt', 'YearRemodAdd', 'Fireplaces',\n",
       "       'GarageYrBlt', 'MasVnrArea', 'LotArea', 'X2ndFlrSF', 'BedroomAbvGr',\n",
       "       'BsmtFinSF1', 'HalfBath', 'SalePrice'],\n",
       "      dtype='object')"
      ]
     },
     "execution_count": 5,
     "metadata": {},
     "output_type": "execute_result"
    }
   ],
   "source": [
    "data2.columns"
   ]
  },
  {
   "cell_type": "markdown",
   "metadata": {},
   "source": [
    "# share a code (which expires in 7 days) "
   ]
  },
  {
   "cell_type": "code",
   "execution_count": 6,
   "metadata": {},
   "outputs": [
    {
     "data": {
      "text/plain": [
       "'http://dpaste.com/2VTGKRXHH'"
      ]
     },
     "execution_count": 6,
     "metadata": {},
     "output_type": "execute_result"
    }
   ],
   "source": [
    "%pastebin 1-5"
   ]
  }
 ],
 "metadata": {
  "kernelspec": {
   "display_name": "Python 3",
   "language": "python",
   "name": "python3"
  },
  "language_info": {
   "codemirror_mode": {
    "name": "ipython",
    "version": 3
   },
   "file_extension": ".py",
   "mimetype": "text/x-python",
   "name": "python",
   "nbconvert_exporter": "python",
   "pygments_lexer": "ipython3",
   "version": "3.8.3"
  }
 },
 "nbformat": 4,
 "nbformat_minor": 4
}
